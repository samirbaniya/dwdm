{
 "cells": [
  {
   "cell_type": "code",
   "execution_count": 3,
   "id": "f1b3986c-2efc-44bb-9222-2cfbc9c4b4a0",
   "metadata": {},
   "outputs": [
    {
     "name": "stdout",
     "output_type": "stream",
     "text": [
      "Samir\n",
      "2\n",
      "Banepa\n"
     ]
    }
   ],
   "source": [
    "class Student:\n",
    "    def getItem(self, name, roll, address):\n",
    "        self.name = name\n",
    "        self.roll = roll\n",
    "        self.address = address\n",
    "        \n",
    "    def display(self):\n",
    "        print(self.name)\n",
    "        print(self.roll)\n",
    "        print(self.address)\n",
    "\n",
    "obj1 = Student()\n",
    "obj1.getItem('Samir',2,'Banepa')\n",
    "obj1.display()"
   ]
  },
  {
   "cell_type": "code",
   "execution_count": null,
   "id": "3cc46869-981e-46d3-8967-f4170693850d",
   "metadata": {},
   "outputs": [],
   "source": []
  }
 ],
 "metadata": {
  "kernelspec": {
   "display_name": "Python 3 (ipykernel)",
   "language": "python",
   "name": "python3"
  },
  "language_info": {
   "codemirror_mode": {
    "name": "ipython",
    "version": 3
   },
   "file_extension": ".py",
   "mimetype": "text/x-python",
   "name": "python",
   "nbconvert_exporter": "python",
   "pygments_lexer": "ipython3",
   "version": "3.12.4"
  }
 },
 "nbformat": 4,
 "nbformat_minor": 5
}
