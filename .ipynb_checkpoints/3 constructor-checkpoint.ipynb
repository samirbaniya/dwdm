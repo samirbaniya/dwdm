{
 "cells": [
  {
   "cell_type": "code",
   "execution_count": 5,
   "id": "8fa4d266-f992-40bc-82ec-1c4963dfd58e",
   "metadata": {},
   "outputs": [
    {
     "name": "stdin",
     "output_type": "stream",
     "text": [
      "Enter Your name: sam\n",
      "Enter your rollno: 5\n",
      "Enter your Address banepa\n",
      "Enter Your name: rajan\n",
      "Enter your rollno: 6\n",
      "Enter your Address panauti\n"
     ]
    },
    {
     "name": "stdout",
     "output_type": "stream",
     "text": [
      "sam\n",
      "5\n",
      "banepa\n",
      "rajan\n",
      "6\n",
      "panauti\n"
     ]
    }
   ],
   "source": [
    "class Student:\n",
    "    def __init__(self):\n",
    "        self.name = input('Enter Your name:')\n",
    "        self.roll = int(input('Enter your rollno:'))\n",
    "        self.address = input('Enter your Address')\n",
    "        \n",
    "    def display(self):\n",
    "        print(self.name)\n",
    "        print(self.roll)\n",
    "        print(self.address)\n",
    "        \n",
    "        \n",
    "obj1 = Student()\n",
    "obj2 = Student()\n",
    "\n",
    "obj1.display()\n",
    "obj2.display()"
   ]
  },
  {
   "cell_type": "code",
   "execution_count": null,
   "id": "b51d473e-4216-4909-9274-d8f2e0977e71",
   "metadata": {},
   "outputs": [],
   "source": []
  }
 ],
 "metadata": {
  "kernelspec": {
   "display_name": "Python 3 (ipykernel)",
   "language": "python",
   "name": "python3"
  },
  "language_info": {
   "codemirror_mode": {
    "name": "ipython",
    "version": 3
   },
   "file_extension": ".py",
   "mimetype": "text/x-python",
   "name": "python",
   "nbconvert_exporter": "python",
   "pygments_lexer": "ipython3",
   "version": "3.12.4"
  }
 },
 "nbformat": 4,
 "nbformat_minor": 5
}
