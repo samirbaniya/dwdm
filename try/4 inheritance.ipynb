{
 "cells": [
  {
   "cell_type": "code",
   "execution_count": 5,
   "id": "b8188824-ed13-41d7-aa95-9445cca40d82",
   "metadata": {},
   "outputs": [
    {
     "name": "stdout",
     "output_type": "stream",
     "text": [
      "Sam\n",
      "19\n",
      "Banepa\n",
      "150000\n"
     ]
    }
   ],
   "source": [
    "class Student:\n",
    "    def __init__(self, name, id, address):\n",
    "        self.name = name\n",
    "        self.id = id\n",
    "        self.address = address\n",
    "\n",
    "    def display1(self):\n",
    "        print(self.name)\n",
    "        print(self.id)\n",
    "        print(self.address)\n",
    "\n",
    "class Teacher(Student):\n",
    "    def __init__(self, name, id, address, salary):\n",
    "        super().__init__(name, id, address)\n",
    "        self.salary = salary\n",
    "\n",
    "    def display(self):\n",
    "        super().display1()\n",
    "        print(self.salary)\n",
    "\n",
    "# Example usage\n",
    "obj = Teacher(\"Sam\", 19, \"Banepa\", 150000)\n",
    "obj.display()\n"
   ]
  },
  {
   "cell_type": "code",
   "execution_count": null,
   "id": "7fee6fca-c4b1-40f2-9b30-82556705df0c",
   "metadata": {},
   "outputs": [],
   "source": []
  }
 ],
 "metadata": {
  "kernelspec": {
   "display_name": "Python 3 (ipykernel)",
   "language": "python",
   "name": "python3"
  },
  "language_info": {
   "codemirror_mode": {
    "name": "ipython",
    "version": 3
   },
   "file_extension": ".py",
   "mimetype": "text/x-python",
   "name": "python",
   "nbconvert_exporter": "python",
   "pygments_lexer": "ipython3",
   "version": "3.12.4"
  }
 },
 "nbformat": 4,
 "nbformat_minor": 5
}
