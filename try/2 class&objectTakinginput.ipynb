{
 "cells": [
  {
   "cell_type": "code",
   "execution_count": 19,
   "id": "691f5d87-eb20-4950-a2de-1d8c4e65b856",
   "metadata": {},
   "outputs": [
    {
     "name": "stdin",
     "output_type": "stream",
     "text": [
      "Enter Your name: samir\n",
      "Enter your rollno: 19\n",
      "Enter your Address banepa\n"
     ]
    },
    {
     "name": "stdout",
     "output_type": "stream",
     "text": [
      "samir\n",
      "19\n",
      "banepa\n"
     ]
    },
    {
     "data": {
      "text/plain": [
       "'samir'"
      ]
     },
     "execution_count": 19,
     "metadata": {},
     "output_type": "execute_result"
    }
   ],
   "source": [
    "class Student:\n",
    "    def getItem(self):\n",
    "        self.name = input('Enter Your name:')\n",
    "        self.roll = int(input('Enter your rollno:'))\n",
    "        self.address = input('Enter your Address')\n",
    "        \n",
    "    def display(self):\n",
    "        print(self.name)\n",
    "        print(self.roll)\n",
    "        print(self.address)\n",
    "obj1 = Student()\n",
    "obj1.getItem()\n",
    "obj1.display()\n",
    "\n",
    "# just name\n",
    "obj1.name"
   ]
  },
  {
   "cell_type": "code",
   "execution_count": null,
   "id": "42ad0ee0-1c95-419f-81e2-92faaac94ce2",
   "metadata": {},
   "outputs": [],
   "source": []
  }
 ],
 "metadata": {
  "kernelspec": {
   "display_name": "Python 3 (ipykernel)",
   "language": "python",
   "name": "python3"
  },
  "language_info": {
   "codemirror_mode": {
    "name": "ipython",
    "version": 3
   },
   "file_extension": ".py",
   "mimetype": "text/x-python",
   "name": "python",
   "nbconvert_exporter": "python",
   "pygments_lexer": "ipython3",
   "version": "3.12.4"
  }
 },
 "nbformat": 4,
 "nbformat_minor": 5
}
